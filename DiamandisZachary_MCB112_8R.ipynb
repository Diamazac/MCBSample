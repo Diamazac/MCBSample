{
 "cells": [
  {
   "cell_type": "markdown",
   "metadata": {},
   "source": [
    "# Question 1"
   ]
  },
  {
   "cell_type": "code",
   "execution_count": 1,
   "metadata": {},
   "outputs": [],
   "source": [
    "def python_script(mydata):\n",
    "    \n",
    "    #Data\n",
    "    mydata.to_csv(\"mydata.tbl\", sep='\\t')\n",
    "    \n",
    "    #R Script\n",
    "    with open(\"myfunction.r\", \"w\") as out:\n",
    "        out.write(\"library(edgeR) \\n\")\n",
    "        out.write(\"infile     <- 'mydata.tbl' \\n\" )\n",
    "        out.write(\"group      <- factor(c(1,1,1,2,2,2)) \\n\")   \n",
    "        out.write(\"outfile    <- 'myresult.out' \\n\")\n",
    "\n",
    "        out.write(\"x     <- read.table(infile, sep='\\t', row.names=1) \\n\")\n",
    "        out.write(\"y     <- DGEList(counts=x,group=group) \\n\")\n",
    "        out.write(\"y     <- estimateDisp(y) \\n\")\n",
    "        out.write(\"et    <- exactTest(y) \\n\")\n",
    "        out.write(\"tab   <- topTags(et, nrow(x))\\n\")\n",
    "\n",
    "        out.write(\"write.table(tab, file=outfile)\\n\")\n",
    "    !Rscript myfunction.r\n",
    "    \n",
    "    #Output table \n",
    "    tables = pd.read_table(\"myresult.out\", delim_whitespace = True)\n",
    "    return(tables)\n",
    "    \n",
    "    \n"
   ]
  },
  {
   "cell_type": "markdown",
   "metadata": {},
   "source": [
    "# Question 2"
   ]
  },
  {
   "cell_type": "code",
   "execution_count": 2,
   "metadata": {},
   "outputs": [],
   "source": [
    "import pandas as pd\n",
    "data1 = pd.read_table(\"w08-data.1\", index_col=0)\n",
    "data2 = pd.read_table(\"w08-data.2\", index_col = 0)\n",
    "data3 = pd.read_table(\"w08-data.3\", index_col = 0)\n",
    "\n",
    "\n",
    "#Merged datasets\n",
    "table1 = data1.merge(data2, left_index=True, right_index = True)\n",
    "table2 = data2.merge(data3, left_index=True, right_index = True)\n",
    "table3 = data1.merge(data3, left_index=True, right_index = True)\n",
    "\n"
   ]
  },
  {
   "cell_type": "code",
   "execution_count": 3,
   "metadata": {},
   "outputs": [
    {
     "name": "stdout",
     "output_type": "stream",
     "text": [
      "Loading required package: limma\n",
      "Design matrix not provided. Switch to the classic mode.\n",
      "Loading required package: limma\n",
      "Design matrix not provided. Switch to the classic mode.\n",
      "Loading required package: limma\n",
      "Design matrix not provided. Switch to the classic mode.\n"
     ]
    }
   ],
   "source": [
    "#Python script result tables\n",
    "tables12 = python_script(table1)\n",
    "tables23 = python_script(table2)\n",
    "tables13 = python_script(table3)\n",
    "\n"
   ]
  },
  {
   "cell_type": "code",
   "execution_count": 4,
   "metadata": {},
   "outputs": [
    {
     "name": "stdout",
     "output_type": "stream",
     "text": [
      "2135\n",
      "996\n",
      "2049\n"
     ]
    }
   ],
   "source": [
    "print(tables12[tables12 < .05].count().PValue)\n",
    "print(tables23[tables23 < .05].count().PValue)\n",
    "print(tables13[tables13 < .05].count().PValue)"
   ]
  },
  {
   "cell_type": "markdown",
   "metadata": {},
   "source": [
    "He combined tables 1 and 2, as can be seen above by 2135 p values below .05. The second table (table23) has the fewest number of low p-values. This result suggests that table 2 and 3 are similar, meaning data tables 2 and 3 are both wild type samples. Table 1 is the mutant sample. Further support for this analysis is that 996 - the number of false positives - is ~5% of 20,000 (total genes). This is the amount of false positives we would expect under a true null hypothesis (e.g. both wild type groups). "
   ]
  },
  {
   "cell_type": "markdown",
   "metadata": {},
   "source": [
    "# Question 3"
   ]
  },
  {
   "cell_type": "markdown",
   "metadata": {},
   "source": [
    "No, I do not agree. He failed to account for multiple comparisons. There are 200031 comparison tests being run, which increases the probability of type I error. To correct for this, the alpha level must be adjusted. Thus we use the Bonferroni correction, which is most conservative. We also provide a less conservative estimate in the form of FDR through the BH correction.\n",
    "\n",
    "https://xkcd.com/882/"
   ]
  },
  {
   "cell_type": "markdown",
   "metadata": {},
   "source": [
    "If we have a family of hypothesis $H_1...H_n$, the Bonferroni correction controls the family wise error rate (FWER). The FWER is the probability of rejecting at least one true $H_i$ - making atleast one type 1 error. The Bonferroni correction rejects the null hypothesis for each p value $p_{i} \\leq {\\frac {\\alpha }{n}}$,  controlling the FWER at $ \\leq \\alpha$. "
   ]
  },
  {
   "cell_type": "code",
   "execution_count": 5,
   "metadata": {},
   "outputs": [
    {
     "name": "stdout",
     "output_type": "stream",
     "text": [
      "51\n"
     ]
    }
   ],
   "source": [
    "print(tables12[tables12 < .05/(20031)].count().PValue)"
   ]
  },
  {
   "cell_type": "markdown",
   "metadata": {},
   "source": [
    "We could also do a BH correction and look for FDR below .05 which is less conservative "
   ]
  },
  {
   "cell_type": "code",
   "execution_count": 6,
   "metadata": {},
   "outputs": [
    {
     "name": "stdout",
     "output_type": "stream",
     "text": [
      "69\n"
     ]
    }
   ],
   "source": [
    "print(tables12[tables12 < .05 ].count().FDR)"
   ]
  },
  {
   "cell_type": "markdown",
   "metadata": {},
   "source": [
    "The Bonferonni correction comes at the cost of increased false negatives, which reduces statistical power, but offers the least type 1 error. Thus I will take the most conservative number to reduce type 1 error probability and conclude ~51 genes are differentially expressed. "
   ]
  },
  {
   "cell_type": "markdown",
   "metadata": {},
   "source": [
    "# Question 4"
   ]
  },
  {
   "cell_type": "markdown",
   "metadata": {},
   "source": [
    "I will normalize RNA seq both within and between samples, and filter."
   ]
  },
  {
   "cell_type": "code",
   "execution_count": 7,
   "metadata": {},
   "outputs": [
    {
     "name": "stdout",
     "output_type": "stream",
     "text": [
      "Loading required package: limma\n",
      "[1] 16554\n"
     ]
    }
   ],
   "source": [
    "def python_script2(mydata):\n",
    "    mydata.to_csv(\"mydata.tbl\", sep='\\t')\n",
    "            \n",
    "    with open(\"myfunction.r\", \"w\") as out:\n",
    "        out.write(\"library(edgeR) \\n\")\n",
    "        out.write(\"infile     <- 'mydata.tbl' \\n\" )\n",
    "        out.write(\"group      <- factor(c(1,1,1,2,2,2)) \\n\")   \n",
    "        out.write(\"outfile    <- 'myresult.out' \\n\")\n",
    "\n",
    "        out.write(\"x     <- read.table(infile, sep='\\t', row.names=1) \\n\")\n",
    "        out.write(\"y     <- DGEList(counts=x,group=group) \\n\")\n",
    "        \n",
    "        #Filter low-expression genes, setting a cpm requirment of 10 in atleast 2 samples. \n",
    "        out.write(\" keep <- rowSums(cpm(y)>10) >= 2 \\n\")\n",
    "        out.write(\"print(sum(keep == 'TRUE')) \\n\")\n",
    "        out.write(\"y <- y[keep, , keep.lib.sizes=FALSE]\\n\")\n",
    "        \n",
    "        #Normalize within and between samples \n",
    "        out.write(\"y$samples$lib.size <- colSums(y$counts) \\n \")\n",
    "        out.write(\"y     <- calcNormFactors(y, method='TMM') \\n\")\n",
    "        \n",
    "        out.write(\"y     <- estimateCommonDisp(y) \\n\")\n",
    "        out.write(\"et    <- exactTest(y) \\n\")\n",
    "        out.write(\"tab   <- topTags(et, nrow(x))\\n\")\n",
    "\n",
    "        out.write(\"write.table(tab, file=outfile)\\n\")\n",
    "\n",
    "    !Rscript myfunction.r\n",
    "    tables = pd.read_table(\"myresult.out\", delim_whitespace = True)\n",
    "    return(tables)\n",
    "    \n",
    "tables12_p = python_script2(table1)\n"
   ]
  },
  {
   "cell_type": "code",
   "execution_count": 8,
   "metadata": {},
   "outputs": [
    {
     "name": "stdout",
     "output_type": "stream",
     "text": [
      "52\n",
      "50\n"
     ]
    }
   ],
   "source": [
    "print(tables12_p[tables12_p < .05].count().FDR)\n",
    "print(tables12_p[tables12_p < .05/(16554)].count().PValue)"
   ]
  },
  {
   "cell_type": "markdown",
   "metadata": {},
   "source": [
    "Again both corrections are used, and the less conservative BH correction more closely approaches the Bonferonni correction under this corrected edgeR function. I will again use the Bonferonni threshold to conclude 50 genes are differnetially expressed. The problem was that Moriarty's script did not remove low infuence points, and did not normalize. From edgeR documentation:\n",
    "\n",
    "\"As a rule of thumb, genes are dropped if they can’t possibly be expressed in all the samples for\n",
    "any of the conditions. Users can set their own definition of genes being expressed. Usually a gene\n",
    "is required to have a count of 5-10 in a library to be considered expressed in that library.\"\n"
   ]
  },
  {
   "cell_type": "code",
   "execution_count": null,
   "metadata": {},
   "outputs": [],
   "source": []
  }
 ],
 "metadata": {
  "kernelspec": {
   "display_name": "Python 3",
   "language": "python",
   "name": "python3"
  },
  "language_info": {
   "codemirror_mode": {
    "name": "ipython",
    "version": 3
   },
   "file_extension": ".py",
   "mimetype": "text/x-python",
   "name": "python",
   "nbconvert_exporter": "python",
   "pygments_lexer": "ipython3",
   "version": "3.6.5"
  }
 },
 "nbformat": 4,
 "nbformat_minor": 2
}
